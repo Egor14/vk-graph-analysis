{
 "cells": [
  {
   "cell_type": "markdown",
   "metadata": {},
   "source": [
    "# Считывание графа и запись его в csv формат"
   ]
  },
  {
   "cell_type": "code",
   "execution_count": 124,
   "metadata": {},
   "outputs": [
    {
     "data": {
      "image/png": "[encoded data removed]",
      "text/plain": [
       "<Figure size 432x288 with 1 Axes>"
      ]
     },
     "metadata": {},
     "output_type": "display_data"
    }
   ],
   "source": [
    "# Считывание графа\n",
    "import numpy as np\n",
    "import matplotlib.pyplot as plt\n",
    "import networkx as nx\n",
    "import pandas\n",
    "G=nx.read_gexf('friends.gexf')\n",
    "nx.draw(G) \n",
    "plt.draw()  \n",
    "\n",
    "# Получение матрицы смежности и списков смежности ориентированного и неориентированного графов\n",
    "G_matrix = nx.to_numpy_matrix(G)\n",
    "G_undir_matrix = nx.to_numpy_matrix(G.to_undirected())\n",
    "G_list = nx.to_dict_of_lists(G)\n",
    "G_undir_list = nx.to_dict_of_lists(G.to_undirected())\n",
    "G_pd = nx.to_pandas_adjacency(G)\n",
    "\n",
    "# Запись матрицы смежности в csv формат \n",
    "import pandas as pd \n",
    "G_pd.to_csv('matrix.csv')\n",
    "\n",
    "# Запись списка смежности в csv формат \n",
    "new_list = []\n",
    "for i, ls in G_list.items():\n",
    "    ls.insert(0, i)\n",
    "    new_list.append(ls)\n",
    "import csv\n",
    "with open('list.csv', 'w') as f:\n",
    "    writer = csv.writer(f)\n",
    "    for i in new_list:\n",
    "        writer.writerow(i)"
   ]
  },
  {
   "cell_type": "markdown",
   "metadata": {},
   "source": [
    "# Первый пункт"
   ]
  },
  {
   "cell_type": "code",
   "execution_count": 125,
   "metadata": {},
   "outputs": [],
   "source": [
    "# Поиск в глубину(через список смежности)\n",
    "def dfs(v, matrix):\n",
    "    if v not in stack:\n",
    "        stack.append(v)\n",
    "    for i in matrix[(v)]:\n",
    "        if i not in comp and i not in stack:\n",
    "            dfs(i, matrix)\n",
    "            return\n",
    "    comp.append(stack.pop())\n",
    "    if stack != []:\n",
    "        dfs(stack[-1], matrix)"
   ]
  },
  {
   "cell_type": "code",
   "execution_count": 146,
   "metadata": {},
   "outputs": [
    {
     "name": "stdout",
     "output_type": "stream",
     "text": [
      "Вершин в 1 компоненте слабой связности: 173\n",
      "Вершин в 2 компоненте слабой связности: 1\n",
      "Вершин в 3 компоненте слабой связности: 3\n",
      "Вершин в 4 компоненте слабой связности: 1\n",
      "Вершин в 5 компоненте слабой связности: 1\n",
      "Вершин в 6 компоненте слабой связности: 1\n",
      "Количество слабых компонент связности: 6\n"
     ]
    }
   ],
   "source": [
    "# Подсчет количества компонент слабой связности и количества вершин в них с помощью поиска в глубину\n",
    "my_list = []\n",
    "count = 0\n",
    "st = []\n",
    "while (set(st) != set(G_undir_list.keys())):\n",
    "    stack = []\n",
    "    comp = []\n",
    "    dfs(list(set(G_undir_list.keys()).difference(set(st)))[0], G_undir_list)\n",
    "    if count == 0:\n",
    "        my_list += comp\n",
    "    st += comp\n",
    "    print('Вершин в {} компоненте слабой связности:'.format(count+1), len(comp))\n",
    "    count += 1\n",
    "print('Количество слабых компонент связности:', count)"
   ]
  },
  {
   "cell_type": "code",
   "execution_count": 148,
   "metadata": {},
   "outputs": [
    {
     "name": "stdout",
     "output_type": "stream",
     "text": [
      "Вершин в 1 компоненте сильной связности: 1\n",
      "Вершин в 2 компоненте сильной связности: 1\n",
      "Вершин в 3 компоненте сильной связности: 1\n",
      "Вершин в 4 компоненте сильной связности: 3\n",
      "Вершин в 5 компоненте сильной связности: 1\n",
      "Вершин в 6 компоненте сильной связности: 172\n",
      "Вершин в 7 компоненте сильной связности: 1\n",
      "Количество сильных компонент связности: 7\n"
     ]
    }
   ],
   "source": [
    "# Подсчет количества компонент сильной связности и количества вершин в них с помощью поиска в глубину\n",
    "count = 0\n",
    "G_reversed = nx.reverse_view(G)\n",
    "G_list_reversed = nx.to_dict_of_lists(G_reversed)\n",
    "tout = []\n",
    "comp_count = 0\n",
    "while (set(tout) != set(G_undir_list.keys())):\n",
    "    stack = []\n",
    "    comp = []\n",
    "    dfs(list(set(G_undir_list.keys()).difference(set(tout)))[0], G_undir_list)\n",
    "    comp_count += 1\n",
    "    tout += comp\n",
    "while(len(tout)!=0):\n",
    "    stack = []\n",
    "    comp = []\n",
    "    if len(tout)>1:\n",
    "        dfs(tout[-1], G_list_reversed)\n",
    "        for i in comp:\n",
    "            del G_list_reversed[i]\n",
    "            tout.remove(i)\n",
    "    else: \n",
    "        comp = [tout[-1]]\n",
    "        tout = []\n",
    "    count += 1\n",
    "    print('Вершин в {} компоненте сильной связности:'.format(count), len(comp))\n",
    "print('Количество сильных компонент связности:', comp_count + 1)"
   ]
  },
  {
   "cell_type": "code",
   "execution_count": 149,
   "metadata": {},
   "outputs": [
    {
     "data": {
      "text/plain": [
       "0.9611111111111111"
      ]
     },
     "execution_count": 149,
     "metadata": {},
     "output_type": "execute_result"
    }
   ],
   "source": [
    "173/180"
   ]
  },
  {
   "cell_type": "markdown",
   "metadata": {},
   "source": [
    "# Второй пункт"
   ]
  },
  {
   "cell_type": "code",
   "execution_count": 158,
   "metadata": {},
   "outputs": [
    {
     "data": {
      "image/png": "[encoded data removed]",
      "text/plain": [
       "<Figure size 432x288 with 1 Axes>"
      ]
     },
     "metadata": {
      "needs_background": "light"
     },
     "output_type": "display_data"
    }
   ],
   "source": [
    "import collections\n",
    "\n",
    "degree_sequence = sorted([len(i) for i in G_list.values()], reverse=True)  # degree sequence\n",
    "degreeCount = collections.Counter(degree_sequence)\n",
    "deg, cnt = zip(*degreeCount.items())\n",
    "\n",
    "fig, ax = plt.subplots()\n",
    "plt.bar(deg, cnt, width=0.80, color='b')\n",
    "\n",
    "plt.title(\"Degree Histogram\")\n",
    "plt.ylabel(\"Count\")\n",
    "plt.xlabel(\"Degree\")\n",
    "ax.set_xticks([d + 0.4 for d in deg])\n",
    "ax.set_xticklabels(deg);"
   ]
  },
  {
   "cell_type": "code",
   "execution_count": 12,
   "metadata": {},
   "outputs": [],
   "source": [
    "# Получение наибольшей компоненты связности для дальнейшего рассмотрения(в my_list при поиске в глубину мы сохранили \n",
    "# все индексы, состоящие в наибольшей компоненте связности)\n",
    "G_main_comp_list = {}\n",
    "G_main_comp_list.update(G_undir_list)\n",
    "bad_fields = set(G_undir_list.keys()).difference(set(my_list))\n",
    "for i in bad_fields:\n",
    "    if i in G_main_comp_list.keys():\n",
    "        G_main_comp_list.pop(i)\n",
    "\n",
    "for i in G_main_comp_list.values():\n",
    "    for j in bad_fields:\n",
    "        if j in i:\n",
    "            i.remove(j)\n",
    "            \n",
    "G_main_comp = nx.from_dict_of_lists(G_main_comp_list)\n",
    "G_main_comp_matrix = nx.to_numpy_matrix(G_main_comp)\n",
    "indexes = list(nx.to_pandas_adjacency(G_main_comp))"
   ]
  },
  {
   "cell_type": "code",
   "execution_count": 13,
   "metadata": {},
   "outputs": [],
   "source": [
    "# Функция, реализующая алгоритм Флойда-Воршалла для нахождения кратчайших расстояний между вершинами\n",
    "from math import inf\n",
    "\n",
    "def floyd_vor(G):\n",
    "    for i in range(G.shape[0]):\n",
    "        for j in range(G.shape[0]):\n",
    "            if G[i, j] == 0:\n",
    "                G[i, j] = inf\n",
    "        G[i, i] = 1\n",
    "    for k in range(G.shape[0]):\n",
    "        for i in range(G.shape[0]):\n",
    "            for j in range(G.shape[0]):\n",
    "                G[i, j] = min(G[i, j], G[i, k] + G[k, j])"
   ]
  },
  {
   "cell_type": "code",
   "execution_count": 14,
   "metadata": {},
   "outputs": [],
   "source": [
    "G_distance = G_main_comp_matrix.copy()\n",
    "floyd_vor(G_distance)"
   ]
  },
  {
   "cell_type": "code",
   "execution_count": 15,
   "metadata": {},
   "outputs": [
    {
     "name": "stdout",
     "output_type": "stream",
     "text": [
      "[[1. 1. 3. ... 4. 3. 3.]\n",
      " [1. 1. 2. ... 4. 2. 3.]\n",
      " [3. 2. 1. ... 4. 2. 3.]\n",
      " ...\n",
      " [4. 4. 4. ... 1. 5. 3.]\n",
      " [3. 2. 2. ... 5. 1. 3.]\n",
      " [3. 3. 3. ... 3. 3. 1.]]\n"
     ]
    }
   ],
   "source": [
    "print(G_distance)"
   ]
  },
  {
   "cell_type": "code",
   "execution_count": 16,
   "metadata": {},
   "outputs": [
    {
     "name": "stdout",
     "output_type": "stream",
     "text": [
      "6.0\n"
     ]
    }
   ],
   "source": [
    "diametr = np.max(G_distance[:])\n",
    "print(diametr)"
   ]
  },
  {
   "cell_type": "code",
   "execution_count": 17,
   "metadata": {},
   "outputs": [
    {
     "name": "stdout",
     "output_type": "stream",
     "text": [
      "3.0\n"
     ]
    }
   ],
   "source": [
    "radius = min([np.max(i) for i in G_distance])\n",
    "print(radius)"
   ]
  },
  {
   "cell_type": "code",
   "execution_count": 18,
   "metadata": {},
   "outputs": [
    {
     "name": "stdout",
     "output_type": "stream",
     "text": [
      "[4, 8, 10, 90, 126, 142, 154, 157, 158, 159, 160, 166, 167, 168, 170]\n",
      "10703524\n",
      "19656532\n",
      "23358624\n",
      "104280591\n",
      "154857676\n",
      "208242311\n",
      "305570022\n",
      "320148751\n",
      "323578278\n",
      "327624557\n",
      "328766153\n",
      "380297657\n",
      "442730793\n",
      "458868266\n",
      "463252382\n"
     ]
    }
   ],
   "source": [
    "periphery = [i for i in range(G_distance.shape[0]) if np.max(G_distance[i]) == diametr]\n",
    "print(periphery)\n",
    "for i in periphery:\n",
    "    print(indexes[i])"
   ]
  },
  {
   "cell_type": "code",
   "execution_count": 19,
   "metadata": {},
   "outputs": [
    {
     "name": "stdout",
     "output_type": "stream",
     "text": [
      "[22]\n",
      "32879395\n"
     ]
    }
   ],
   "source": [
    "center = [i for i in range(G_distance.shape[0]) if np.max(G_distance[i]) == radius]\n",
    "print(center)\n",
    "for i in center:\n",
    "    print(indexes[i])"
   ]
  },
  {
   "cell_type": "code",
   "execution_count": 20,
   "metadata": {},
   "outputs": [
    {
     "name": "stdout",
     "output_type": "stream",
     "text": [
      "2.5973136422867453\n"
     ]
    }
   ],
   "source": [
    "mean = np.mean(G_distance)\n",
    "print(mean)"
   ]
  },
  {
   "cell_type": "markdown",
   "metadata": {},
   "source": [
    "# Третий пункт"
   ]
  },
  {
   "cell_type": "code",
   "execution_count": 21,
   "metadata": {},
   "outputs": [],
   "source": [
    "def N(id):\n",
    "    return G_main_comp_list[id]"
   ]
  },
  {
   "cell_type": "code",
   "execution_count": 22,
   "metadata": {},
   "outputs": [],
   "source": [
    "def mera(Graph, func):\n",
    "    for i in G_main_comp_list.keys():\n",
    "        for j in G_main_comp_list.keys():\n",
    "            Graph[indexes.index(i), indexes.index(j)] = func(i, j)"
   ]
  },
  {
   "cell_type": "code",
   "execution_count": 23,
   "metadata": {},
   "outputs": [],
   "source": [
    "def common_neighbors(i, j):\n",
    "    return len(set(N(i)).intersection(set(N(j))))"
   ]
  },
  {
   "cell_type": "code",
   "execution_count": 24,
   "metadata": {},
   "outputs": [],
   "source": [
    "def jaccard_coefficient(i, j):\n",
    "    return len(set(N(i)).intersection(set(N(j))))/len(set(N(i)).union(set(N(j))))"
   ]
  },
  {
   "cell_type": "code",
   "execution_count": 76,
   "metadata": {},
   "outputs": [],
   "source": [
    "from math import log\n",
    "def adamic_adar(i, j):\n",
    "    return sum([1/log(len(N(k))) if len(N(k))!=1 else 0 for k in set(N(i)).intersection(set(N(j)))])"
   ]
  },
  {
   "cell_type": "code",
   "execution_count": 69,
   "metadata": {},
   "outputs": [],
   "source": [
    "def preferential_attachment(i, j):\n",
    "    return len(N(i))*len(N(j))"
   ]
  },
  {
   "cell_type": "code",
   "execution_count": 93,
   "metadata": {},
   "outputs": [
    {
     "name": "stdout",
     "output_type": "stream",
     "text": [
      "[[ 7.  0.  0. ...  0.  0.  0.]\n",
      " [ 0. 18.  9. ...  0.  4.  0.]\n",
      " [ 0.  9. 15. ...  0.  2.  0.]\n",
      " ...\n",
      " [ 0.  0.  0. ...  4.  0.  0.]\n",
      " [ 0.  4.  2. ...  0.  4.  0.]\n",
      " [ 0.  0.  0. ...  0.  0. 20.]]\n"
     ]
    }
   ],
   "source": [
    "mera1 = np.zeros((173, 173))\n",
    "mera(mera1, common_neighbors)\n",
    "print(mera1)\n",
    "res = pd.DataFrame(mera1, index=indexes)\n",
    "res.to_csv('common_neighbors.csv', header=indexes)"
   ]
  },
  {
   "cell_type": "code",
   "execution_count": 94,
   "metadata": {},
   "outputs": [
    {
     "name": "stdout",
     "output_type": "stream",
     "text": [
      "[[1.         0.         0.         ... 0.         0.         0.        ]\n",
      " [0.         1.         0.375      ... 0.         0.22222222 0.        ]\n",
      " [0.         0.375      1.         ... 0.         0.11764706 0.        ]\n",
      " ...\n",
      " [0.         0.         0.         ... 1.         0.         0.        ]\n",
      " [0.         0.22222222 0.11764706 ... 0.         1.         0.        ]\n",
      " [0.         0.         0.         ... 0.         0.         1.        ]]\n"
     ]
    }
   ],
   "source": [
    "mera2 = np.zeros((173, 173))\n",
    "mera(mera2, jaccard_coefficient)\n",
    "print(mera2)\n",
    "res = pd.DataFrame(mera2, index=indexes)\n",
    "res.to_csv('jaccard_coefficient.csv', header=indexes)"
   ]
  },
  {
   "cell_type": "code",
   "execution_count": 95,
   "metadata": {},
   "outputs": [
    {
     "name": "stdout",
     "output_type": "stream",
     "text": [
      "[[2.45879351 0.         0.         ... 0.         0.         0.        ]\n",
      " [0.         6.1458673  2.77773486 ... 0.         1.20908378 0.        ]\n",
      " [0.         2.77773486 5.15956941 ... 0.         0.56253283 0.        ]\n",
      " ...\n",
      " [0.         0.         0.         ... 2.35591269 0.         0.        ]\n",
      " [0.         1.20908378 0.56253283 ... 0.         1.20908378 0.        ]\n",
      " [0.         0.         0.         ... 0.         0.         6.41434863]]\n"
     ]
    }
   ],
   "source": [
    "mera3 = np.zeros((173, 173))\n",
    "mera(mera3, adamic_adar)\n",
    "print(mera3)\n",
    "res = pd.DataFrame(mera3, index=indexes)\n",
    "res.to_csv('adamic_adar.csv', header=indexes)"
   ]
  },
  {
   "cell_type": "code",
   "execution_count": 96,
   "metadata": {},
   "outputs": [
    {
     "name": "stdout",
     "output_type": "stream",
     "text": [
      "[[ 49. 126. 105. ...  28.  28. 140.]\n",
      " [126. 324. 270. ...  72.  72. 360.]\n",
      " [105. 270. 225. ...  60.  60. 300.]\n",
      " ...\n",
      " [ 28.  72.  60. ...  16.  16.  80.]\n",
      " [ 28.  72.  60. ...  16.  16.  80.]\n",
      " [140. 360. 300. ...  80.  80. 400.]]\n"
     ]
    }
   ],
   "source": [
    "mera4 = np.zeros((173, 173))\n",
    "mera(mera4, preferential_attachment)\n",
    "print(mera4)\n",
    "res = pd.DataFrame(mera4, index=indexes)\n",
    "res.to_csv('preferential_attachment.csv', header=indexes)"
   ]
  },
  {
   "cell_type": "markdown",
   "metadata": {},
   "source": [
    "# Четвертый пункт"
   ]
  },
  {
   "cell_type": "code",
   "execution_count": 38,
   "metadata": {},
   "outputs": [],
   "source": [
    "def degree_centrality(id):\n",
    "    return len(G_main_comp_list[id])/(len(G_main_comp_list.keys())-1)"
   ]
  },
  {
   "cell_type": "code",
   "execution_count": 33,
   "metadata": {},
   "outputs": [],
   "source": [
    "def closeness_centrality(id):\n",
    "    return (len(G_main_comp_list.keys()) - 1)/(np.sum(G_distance[indexes.index(id)])-\n",
    "                                               G_distance[indexes.index(id), indexes.index(id)])"
   ]
  },
  {
   "cell_type": "code",
   "execution_count": 34,
   "metadata": {},
   "outputs": [],
   "source": [
    "def betweenness_centrality(id):\n",
    "    pass"
   ]
  },
  {
   "cell_type": "code",
   "execution_count": 35,
   "metadata": {},
   "outputs": [],
   "source": [
    "vector = np.linalg.eig(G_main_comp_matrix)[1][:,[np.linalg.eig(G_main_comp_matrix)[0].argmax(axis=0)]]\n",
    "def eigenvector_centrality(id):\n",
    "    return vector[indexes.index(id)]"
   ]
  },
  {
   "cell_type": "code",
   "execution_count": 41,
   "metadata": {},
   "outputs": [],
   "source": [
    "def edge_betweenness(id):\n",
    "    pass"
   ]
  },
  {
   "cell_type": "code",
   "execution_count": 36,
   "metadata": {},
   "outputs": [],
   "source": [
    "def metrics_count(d, metric):\n",
    "    for i in indexes:\n",
    "        d.update({i: metric(i)})"
   ]
  },
  {
   "cell_type": "code",
   "execution_count": 42,
   "metadata": {},
   "outputs": [],
   "source": [
    "degree = {}\n",
    "metrics_count(degree, degree_centrality)"
   ]
  },
  {
   "cell_type": "code",
   "execution_count": 45,
   "metadata": {},
   "outputs": [],
   "source": [
    "closeness = {}\n",
    "metrics_count(closeness, closeness_centrality)"
   ]
  },
  {
   "cell_type": "code",
   "execution_count": 46,
   "metadata": {},
   "outputs": [],
   "source": [
    "betweenness = {}"
   ]
  },
  {
   "cell_type": "code",
   "execution_count": 62,
   "metadata": {},
   "outputs": [],
   "source": [
    "eigenvector = {}\n",
    "metrics_count(eigenvector, eigenvector_centrality)\n",
    "for key, val in eigenvector.items():\n",
    "    eigenvector[key] = val[0,0]"
   ]
  },
  {
   "cell_type": "code",
   "execution_count": 63,
   "metadata": {},
   "outputs": [],
   "source": [
    "edge = {}"
   ]
  },
  {
   "cell_type": "code",
   "execution_count": null,
   "metadata": {},
   "outputs": [],
   "source": []
  },
  {
   "cell_type": "code",
   "execution_count": 92,
   "metadata": {},
   "outputs": [],
   "source": [
    "between = nx.betweenness_centrality(G2)"
   ]
  },
  {
   "cell_type": "code",
   "execution_count": 96,
   "metadata": {},
   "outputs": [],
   "source": [
    "edges = nx.edge_betweenness_centrality(G2)"
   ]
  }
 ],
 "metadata": {
  "kernelspec": {
   "display_name": "Python 3",
   "language": "python",
   "name": "python3"
  },
  "language_info": {
   "codemirror_mode": {
    "name": "ipython",
    "version": 3
   },
   "file_extension": ".py",
   "mimetype": "text/x-python",
   "name": "python",
   "nbconvert_exporter": "python",
   "pygments_lexer": "ipython3",
   "version": "3.7.1"
  }
 },
 "nbformat": 4,
 "nbformat_minor": 2
}
